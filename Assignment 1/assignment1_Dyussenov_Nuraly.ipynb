{
 "cells": [
  {
   "cell_type": "markdown",
   "metadata": {},
   "source": [
    " ### Задание 1 Стоимость заказа"
   ]
  },
  {
   "cell_type": "markdown",
   "metadata": {},
   "source": [
    "\n",
    "Программно создать файл zakaz.txt с информацией об выполненных услугах за неделю (min 10-12 наименований). В нем каждая строка с помощью символа табуляции \\t разделена на три колонки с наименованием:\n",
    "- услуга;\n",
    "- количество выполненных услуг за неделю (целое число);\n",
    "- цена (в тенге) за 1 услугу (целое число).\n",
    "\n",
    "Напишите программный модуль, который:\n",
    "- подсчитывает общую стоимость заказа;\n",
    "- выводит название услуги с минимальной стоимостью; • сортирует услуги по количеству их выполнения."
   ]
  },
  {
   "cell_type": "code",
   "execution_count": 114,
   "metadata": {},
   "outputs": [],
   "source": [
    "with open(\"zakaz.txt\", \"w\") as file:\n",
    "  file.write(\"Услуга \\t Кол-во выполненных услуг \\t Цена за 1 услугу \\n\")\n",
    "  file.write(\"Холестерин общий \\t 1 \\t 1280 \\n\")\n",
    "  file.write(\"Глюкоза (сахар крови) \\t 2 \\t 1380 \\n\")\n",
    "  file.write(\"T4 (тироксин) общий \\t 5 \\t 2480 \\n\")\n",
    "  file.write(\"Кортизол \\t 4 \\t 2980 \\n\")\n",
    "  file.write(\"Кальций в моче \\t 1 \\t 1980 \\n\")\n",
    "  file.write(\"Исследование перианального соскоба ручным методом \\t 1 \\t 1000 \\n\")\n",
    "  file.write(\"Общий анализ крови \\t 2 \\t 1380 \\n\")\n",
    "  file.write(\"Токсоплазмоз (Toxoplasma gondii) в крови \\t 1 \\t 4380 \\n\")\n",
    "  file.write(\"Вирус гепатита В (количественный, 150 МЕ/мл) \\t 3 \\t 7980 \\n\")\n",
    "  file.write(\"Вирус гепатита С (качественный, 100 МЕ/мл) \\t 1 \\t 4380 \\n\")"
   ]
  },
  {
   "cell_type": "code",
   "execution_count": 115,
   "metadata": {},
   "outputs": [],
   "source": [
    "table_data = []\n",
    "with open(\"zakaz.txt\", \"r\") as file:\n",
    "  first_line = True\n",
    "  for line in file:\n",
    "    if first_line:\n",
    "      first_line = False\n",
    "      headers = line.strip(\"\\n\").split(\"\\t\")\n",
    "      continue\n",
    "    row = line.strip(\"\\n\").split(\"\\t\")\n",
    "    table_data.append(row)\n"
   ]
  },
  {
   "cell_type": "code",
   "execution_count": 116,
   "metadata": {},
   "outputs": [
    {
     "name": "stdout",
     "output_type": "stream",
     "text": [
      "Услуга                                                Кол-во выполненных услуг      Цена за 1 услугу\n",
      "-------------------------------------------------  ----------------------------  --------------------\n",
      "Холестерин общий                                                             1                  1280\n",
      "Глюкоза (сахар крови)                                                        2                  1380\n",
      "T4 (тироксин) общий                                                          5                  2480\n",
      "Кортизол                                                                     4                  2980\n",
      "Кальций в моче                                                               1                  1980\n",
      "Исследование перианального соскоба ручным методом                            1                  1000\n",
      "Общий анализ крови                                                           2                  1380\n",
      "Токсоплазмоз (Toxoplasma gondii) в крови                                     1                  4380\n",
      "Вирус гепатита В (количественный, 150 МЕ/мл)                                 3                  7980\n",
      "Вирус гепатита С (качественный, 100 МЕ/мл)                                   1                  4380\n"
     ]
    }
   ],
   "source": [
    "from tabulate import tabulate\n",
    "print(tabulate(table_data, headers=headers)) "
   ]
  },
  {
   "cell_type": "code",
   "execution_count": 117,
   "metadata": {},
   "outputs": [
    {
     "name": "stdout",
     "output_type": "stream",
     "text": [
      "Полная стоимость за все услуги 66800 тенге.\n"
     ]
    }
   ],
   "source": [
    "def calculate_total_price(table_data):\n",
    "    total = sum(int(row[1]) * int(row[2]) for row in table_data)\n",
    "    return total\n",
    "\n",
    "total = calculate_total_price(table_data)\n",
    "\n",
    "print(f\"Полная стоимость за все услуги {total} тенге.\")"
   ]
  },
  {
   "cell_type": "code",
   "execution_count": 118,
   "metadata": {},
   "outputs": [
    {
     "name": "stdout",
     "output_type": "stream",
     "text": [
      "Услуга                                                Кол-во выполненных услуг      Цена за 1 услугу\n",
      "-------------------------------------------------  ----------------------------  --------------------\n",
      "Холестерин общий                                                             1                  1280\n",
      "Кальций в моче                                                               1                  1980\n",
      "Исследование перианального соскоба ручным методом                            1                  1000\n",
      "Токсоплазмоз (Toxoplasma gondii) в крови                                     1                  4380\n",
      "Вирус гепатита С (качественный, 100 МЕ/мл)                                   1                  4380\n",
      "Глюкоза (сахар крови)                                                        2                  1380\n",
      "Общий анализ крови                                                           2                  1380\n",
      "Вирус гепатита В (количественный, 150 МЕ/мл)                                 3                  7980\n",
      "Кортизол                                                                     4                  2980\n",
      "T4 (тироксин) общий                                                          5                  2480\n"
     ]
    }
   ],
   "source": [
    "def sort_by_quantity(table_data, reverse=False):\n",
    "    table_data.sort(key=lambda row: int(row[1]), reverse=reverse)\n",
    "    return table_data\n",
    "\n",
    "sort_by_quantity(table_data)\n",
    "print(tabulate(table_data, headers=headers)) "
   ]
  },
  {
   "cell_type": "markdown",
   "metadata": {},
   "source": [
    "### Задание 2 Поиск слова в текстовом файле\n"
   ]
  },
  {
   "cell_type": "markdown",
   "metadata": {},
   "source": [
    "Сгенерируйте 5 текстовых файлов (name_.txt), разместите их одной папке. Напишите программу, которая принимает поисковый запрос и выводит названия текстовых файлов, содержащих искомую подстроку. "
   ]
  },
  {
   "cell_type": "markdown",
   "metadata": {},
   "source": [
    "Генерация 5 текстовых файлов:"
   ]
  },
  {
   "cell_type": "code",
   "execution_count": 119,
   "metadata": {},
   "outputs": [],
   "source": [
    "from pathlib import Path\n",
    "import random\n",
    "import string\n",
    "\n",
    "folder = Path(\"generated_files\")\n",
    "\n",
    "def generate_file(number, n, folder):\n",
    "\n",
    "    file_path = folder / f\"name_{number}.txt\"\n",
    "\n",
    "    with open(file_path, \"w\", encoding=\"utf-8\") as file:\n",
    "        chars = ''.join([random.choice(string.ascii_letters) for i in range(n)])\n",
    "        file.write(chars)\n",
    "\n",
    "try:\n",
    "    folder.mkdir(exist_ok=False)\n",
    "    \n",
    "    for i in range(5):\n",
    "        generate_file(i, 1024, folder)\n",
    "\n",
    "except FileExistsError:\n",
    "    # Если директория generated_files уже существует, то ничего не делаем\n",
    "    pass\n",
    "\n"
   ]
  },
  {
   "cell_type": "markdown",
   "metadata": {},
   "source": [
    "Функция для поиска подстроки в директории"
   ]
  },
  {
   "cell_type": "code",
   "execution_count": 120,
   "metadata": {},
   "outputs": [],
   "source": [
    "def search_in_directory(substring: str, folder: Path):\n",
    "    target_files = []\n",
    "\n",
    "    for file_path in folder.iterdir():\n",
    "        if not file_path.is_file():\n",
    "            continue\n",
    "        with open(file_path) as file:\n",
    "            content = file.read()\n",
    "            if substring in content:\n",
    "                target_files.append(file_path.absolute())\n",
    "\n",
    "    if not target_files:\n",
    "        return \"No files containing probided substring in the directory\"\n",
    "    return target_files"
   ]
  },
  {
   "cell_type": "markdown",
   "metadata": {},
   "source": [
    "Давайте проверим функцию на файлах"
   ]
  },
  {
   "cell_type": "code",
   "execution_count": 121,
   "metadata": {},
   "outputs": [
    {
     "data": {
      "text/plain": [
       "'No files containing probided substring in the directory'"
      ]
     },
     "execution_count": 121,
     "metadata": {},
     "output_type": "execute_result"
    }
   ],
   "source": [
    "search_in_directory(\"mathematics\", folder)"
   ]
  },
  {
   "cell_type": "markdown",
   "metadata": {},
   "source": [
    "Поскольку файлы были сгенерированы случайным образом, вряд ли там будет слово \"mathematics\", поэтому давайте добавим его, а также \"probability theory\", в два разных файла, чтобы проверить правильность нашей функции:"
   ]
  },
  {
   "cell_type": "code",
   "execution_count": 122,
   "metadata": {},
   "outputs": [],
   "source": [
    "file1= Path(\"generated_files/name_2.txt\")\n",
    "with open(file1, \"a\", encoding=\"utf-8\") as file:\n",
    "    file.write(\"Mathematics\")\n",
    "    file.write(\"Probability Theory\")\n",
    "\n",
    "file2= Path(\"generated_files/name_3.txt\")\n",
    "with open(file2, \"a\", encoding=\"utf-8\") as file:\n",
    "    file.write(\"Mathematics\")\n"
   ]
  },
  {
   "cell_type": "code",
   "execution_count": 123,
   "metadata": {},
   "outputs": [
    {
     "data": {
      "text/plain": [
       "[WindowsPath('d:/Programming for Data Analysis and Databases/Assignments/Assignment 1/generated_files/name_2.txt'),\n",
       " WindowsPath('d:/Programming for Data Analysis and Databases/Assignments/Assignment 1/generated_files/name_3.txt')]"
      ]
     },
     "execution_count": 123,
     "metadata": {},
     "output_type": "execute_result"
    }
   ],
   "source": [
    "search_in_directory(\"Mathematics\", folder)\n"
   ]
  },
  {
   "cell_type": "code",
   "execution_count": 124,
   "metadata": {},
   "outputs": [
    {
     "data": {
      "text/plain": [
       "[WindowsPath('d:/Programming for Data Analysis and Databases/Assignments/Assignment 1/generated_files/name_2.txt')]"
      ]
     },
     "execution_count": 124,
     "metadata": {},
     "output_type": "execute_result"
    }
   ],
   "source": [
    "search_in_directory(\"Probability Theory\", folder)"
   ]
  },
  {
   "cell_type": "markdown",
   "metadata": {},
   "source": [
    "### Задание 3 Информация о файле"
   ]
  },
  {
   "cell_type": "markdown",
   "metadata": {},
   "source": [
    "Имеется файл `file.txt` (файл прикреплён к заданию). Напишите программу, которая выводит следующую статистику по тексту:\n",
    "\n",
    "- количество букв латинского алфавита;\n",
    "- число слов;\n",
    "- число строк."
   ]
  },
  {
   "cell_type": "code",
   "execution_count": 131,
   "metadata": {},
   "outputs": [
    {
     "name": "stdout",
     "output_type": "stream",
     "text": [
      "There are 256 latin characters, 47 words and 7 lines in this text.\n"
     ]
    }
   ],
   "source": [
    "with open(\"file.txt\", \"r\", encoding=\"utf-8\") as file:\n",
    "    char_counter = 0\n",
    "    word_counter = 0\n",
    "    line_counter = 0\n",
    "    for line in file:\n",
    "        line_counter += 1\n",
    "        for maybe_word in line.split():\n",
    "            is_word = True\n",
    "            for char in maybe_word:\n",
    "                if char in string.ascii_letters:\n",
    "                    char_counter += 1\n",
    "                else:\n",
    "                    is_word = False\n",
    "            if is_word: word_counter += 1\n",
    "print(f\"There are {char_counter} latin characters, {word_counter} words and {line_counter} lines in this text.\")\n"
   ]
  },
  {
   "cell_type": "markdown",
   "metadata": {},
   "source": [
    "### Задание 4 Замена слов"
   ]
  },
  {
   "cell_type": "code",
   "execution_count": 126,
   "metadata": {},
   "outputs": [
    {
     "name": "stdout",
     "output_type": "stream",
     "text": [
      "****** is a high-level, interpreted *******ming language that has gained immense popularity in recent years. It was first created in the late 1980s by Guido van Rossum, and since then, it has become one of the most widely used *******ming languages in the world. ****** is known for its simplicity and ease of use, which makes it an ideal language for beginners. It has a straightforward syntax and requires less code than other *******ming languages, which means that developers can focus on solving problems rather than writing long lines of code. ******_******_*******ming\n"
     ]
    }
   ],
   "source": [
    "import re\n",
    "\n",
    "with open(\"forbidden_words.txt\", \"r\") as file: \n",
    "    content = file.read()\n",
    "    forbidden_words = content.split()\n",
    "\n",
    "with open(\"words.txt\", \"r\") as file:\n",
    "    content = file.read()\n",
    "\n",
    "acceptable_text = []\n",
    "for word in content.split():\n",
    "    lower_word = word.lower()\n",
    "    for forbidden_word in forbidden_words:\n",
    "        if forbidden_word in lower_word:\n",
    "            word = re.sub(forbidden_word, \"*\"*len(forbidden_word), word, flags=re.IGNORECASE)\n",
    "    acceptable_text.append(word)\n",
    "\n",
    "censored_text = \" \".join(acceptable_text)\n",
    "print(censored_text)\n",
    "\n",
    "with open(\"censored_words.txt\", \"w\") as file:\n",
    "    file.write(censored_text)"
   ]
  },
  {
   "cell_type": "markdown",
   "metadata": {},
   "source": [
    "### Задание 5 Решение квадратного уравнения"
   ]
  },
  {
   "cell_type": "markdown",
   "metadata": {},
   "source": [
    "Напишите программу, которая вычисляет корни квадратного уравнения \n",
    "$ax^2 + bx + c = 0$, где $a, b, c \\in \\mathbb{Z}$. Значения $a, b, c$ считываются из текстового файла. В случае, когда нет действительных корней, вывести комплексные корни"
   ]
  },
  {
   "cell_type": "code",
   "execution_count": 127,
   "metadata": {},
   "outputs": [
    {
     "name": "stdout",
     "output_type": "stream",
     "text": [
      "5 10 5\n"
     ]
    }
   ],
   "source": [
    "def extract_coefficient(equation):\n",
    "    equation = equation.replace(\" \", \"\")\n",
    "    pattern = r'([-]?\\d*)x\\^2([+-]?\\d*)[x]?([+-]?\\d+)=0'\n",
    "    match = re.match(pattern, equation)\n",
    "\n",
    "    if match:\n",
    "        a_str, b_str, c_str = match.groups()\n",
    "\n",
    "        a = int(a_str) if a_str not in [\"\", \"-\"] else (1 if a_str != \"-\" else -1)\n",
    "        b = int(b_str) if b_str not in [\"\", \"+\", \"-\"] else (1 if b_str != \"-\" else -1)\n",
    "        c = int(c_str)\n",
    "\n",
    "        return a, b, c\n",
    "    else:\n",
    "        raise ValueError(\"Equation format is incorrect or not a quadratic equation.\")\n",
    "\n",
    "with open(\"polynomial.txt\", \"r\") as file:\n",
    "    content = file.read()\n",
    "    a, b, c = extract_coefficient(content)\n",
    "    print(a, b, c)\n",
    "\n"
   ]
  },
  {
   "cell_type": "code",
   "execution_count": 128,
   "metadata": {},
   "outputs": [],
   "source": [
    "from math import sqrt\n",
    "\n",
    "class QuadraticPolynomial:\n",
    "    def __init__(self, a, b, c):\n",
    "        self.a = a\n",
    "        self.b = b\n",
    "        self.c = c\n",
    "        self.D = b**2 - 4 * a * c\n",
    "\n",
    "    def find_roots(self):\n",
    "        if self.D > 0:\n",
    "            x1 = (-self.b + sqrt(self.D)) / (2 * a)\n",
    "            x2 = (-self.b - sqrt(self.D)) / (2 * a)\n",
    "            return f\"roots are: {(x1, x2)}\"\n",
    "        elif self.D == 0:\n",
    "            return f\"there is only one root (with multiplicity 2): {(-self.b)/ (2 * self.a)} \"\n",
    "        elif self.D < 0:\n",
    "            x1 = f\"{-self.b/ (2*self.a)} + {sqrt(abs(self.D))}i\"\n",
    "            x2 = f\"{-self.b/ (2*self.a)} - {sqrt(abs(self.D))}i\"\n",
    "            return f\"complex roots are: {(x1, x2)}\""
   ]
  },
  {
   "cell_type": "code",
   "execution_count": 129,
   "metadata": {},
   "outputs": [
    {
     "data": {
      "text/plain": [
       "'there is only one root (with multiplicity 2): -1.0 '"
      ]
     },
     "execution_count": 129,
     "metadata": {},
     "output_type": "execute_result"
    }
   ],
   "source": [
    "poly = QuadraticPolynomial(a,b,c)\n",
    "\n",
    "poly.find_roots()"
   ]
  },
  {
   "cell_type": "code",
   "execution_count": null,
   "metadata": {},
   "outputs": [],
   "source": []
  }
 ],
 "metadata": {
  "kernelspec": {
   "display_name": "base",
   "language": "python",
   "name": "python3"
  },
  "language_info": {
   "codemirror_mode": {
    "name": "ipython",
    "version": 3
   },
   "file_extension": ".py",
   "mimetype": "text/x-python",
   "name": "python",
   "nbconvert_exporter": "python",
   "pygments_lexer": "ipython3",
   "version": "3.9.12"
  }
 },
 "nbformat": 4,
 "nbformat_minor": 2
}
